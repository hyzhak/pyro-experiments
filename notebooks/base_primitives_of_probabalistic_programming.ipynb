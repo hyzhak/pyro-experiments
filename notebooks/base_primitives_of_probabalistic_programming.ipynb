{
 "cells": [
  {
   "cell_type": "markdown",
   "metadata": {},
   "source": [
    "# Pyro experiments"
   ]
  },
  {
   "cell_type": "code",
   "execution_count": 7,
   "metadata": {},
   "outputs": [],
   "source": [
    "import numpyro\n",
    "import torch\n",
    "import pyro\n",
    "\n",
    "pyro.set_rng_seed(101)"
   ]
  },
  {
   "cell_type": "markdown",
   "metadata": {},
   "source": [
    "## Inference\n",
    "- exact bayesian inference - often intractable\n",
    "- Markov Monte Carlo - computationally expensive\n",
    "- Variatinal Inference \n",
    "\n",
    "### Metropolis sampling\n",
    "\n",
    "sampling rule satisfies the Markov property. Every observation is not depend on observation before (memory-less).\n",
    "\n",
    "$$\n",
    "\\frac{P(A|b_1) * p(b_1)}{P(A|b_2) * p(b_2)} = \\frac{ \\frac{ P(A|b_1) * p(b_1) } { p(A) } }{ \\frac { P(A|b_2) * p(b_2) } { p(A) } }\n",
    "$$\n",
    "\n",
    "improovements\n",
    "- Hamiltonian Monte Carlo (HMC), 1987\n",
    "- Intelligently set parameters (step-size, number of steps) to HMC\n",
    "  - No U_Turn Sampling (NUTS), 2011\n",
    "  - Matthew Hoffman, Andrew Gelman\n",
    "  \n",
    "  \n",
    "## Where does probabillistic programming work good\n",
    "treating uncertainty as a first-class citizen and transparently specifying any assumptions\n",
    "\n",
    "- Model validation when test data is expensive\n",
    "  - train model on general and readily-available dataset (source dataset) and then test on target (domain-specific) data (assumably without labels)\n",
    "  - live model validation on random new data\n",
    "- Systems that make use of export knowledge\n",
    "  - What is the correct structure for a graphical model? What influences what?\n",
    "  - What are reasonable priors for unobserved parameters?\n",
    " \n",
    "- Problems that require reasoning with uncertainty\n",
    "  - Should we make this changes to our process?\n",
    "  - If we make this change, what is the worst-case outcome? Best-case? How sure are we that the situation will improve?"
   ]
  },
  {
   "cell_type": "code",
   "execution_count": 5,
   "metadata": {
    "collapsed": true,
    "jupyter": {
     "outputs_hidden": true
    }
   },
   "outputs": [
    {
     "name": "stdout",
     "output_type": "stream",
     "text": [
      "Collecting pyro-ppl[extras]\n",
      "  Downloading pyro_ppl-1.4.0-py3-none-any.whl (573 kB)\n",
      "\u001b[K     |████████████████████████████████| 573 kB 2.0 MB/s eta 0:00:01\n",
      "\u001b[?25hCollecting pyro-api>=0.1.1\n",
      "  Downloading pyro_api-0.1.2-py3-none-any.whl (11 kB)\n",
      "Requirement already satisfied: torch>=1.5.0 in /opt/conda/lib/python3.8/site-packages (from pyro-ppl[extras]) (1.5.0)\n",
      "Requirement already satisfied: tqdm>=4.36 in /opt/conda/lib/python3.8/site-packages (from pyro-ppl[extras]) (4.46.0)\n",
      "Requirement already satisfied: numpy>=1.7 in /opt/conda/lib/python3.8/site-packages (from pyro-ppl[extras]) (1.18.1)\n",
      "Requirement already satisfied: opt-einsum>=2.3.2 in /opt/conda/lib/python3.8/site-packages (from pyro-ppl[extras]) (3.3.0)\n",
      "Requirement already satisfied: visdom>=0.1.4; extra == \"extras\" in /opt/conda/lib/python3.8/site-packages (from pyro-ppl[extras]) (0.1.8.9)\n",
      "Requirement already satisfied: seaborn; extra == \"extras\" in /opt/conda/lib/python3.8/site-packages (from pyro-ppl[extras]) (0.10.1)\n",
      "Requirement already satisfied: graphviz>=0.8; extra == \"extras\" in /opt/conda/lib/python3.8/site-packages (from pyro-ppl[extras]) (0.14)\n",
      "Requirement already satisfied: pandas; extra == \"extras\" in /opt/conda/lib/python3.8/site-packages (from pyro-ppl[extras]) (1.0.3)\n",
      "Requirement already satisfied: matplotlib>=1.3; extra == \"extras\" in /opt/conda/lib/python3.8/site-packages (from pyro-ppl[extras]) (3.2.1)\n",
      "Collecting torchvision>=0.6.0; extra == \"extras\"\n",
      "  Downloading torchvision-0.7.0-cp38-cp38-manylinux1_x86_64.whl (5.9 MB)\n",
      "\u001b[K     |████████████████████████████████| 5.9 MB 3.4 MB/s eta 0:00:01\n",
      "\u001b[?25hRequirement already satisfied: scikit-learn; extra == \"extras\" in /opt/conda/lib/python3.8/site-packages (from pyro-ppl[extras]) (0.23.1)\n",
      "Collecting jupyter>=1.0.0; extra == \"extras\"\n",
      "  Downloading jupyter-1.0.0-py2.py3-none-any.whl (2.7 kB)\n",
      "Collecting wget; extra == \"extras\"\n",
      "  Downloading wget-3.2.zip (10 kB)\n",
      "Requirement already satisfied: future in /opt/conda/lib/python3.8/site-packages (from torch>=1.5.0->pyro-ppl[extras]) (0.18.2)\n",
      "Requirement already satisfied: jsonpatch in /opt/conda/lib/python3.8/site-packages (from visdom>=0.1.4; extra == \"extras\"->pyro-ppl[extras]) (1.25)\n",
      "Requirement already satisfied: tornado in /opt/conda/lib/python3.8/site-packages (from visdom>=0.1.4; extra == \"extras\"->pyro-ppl[extras]) (6.0.4)\n",
      "Requirement already satisfied: websocket-client in /opt/conda/lib/python3.8/site-packages (from visdom>=0.1.4; extra == \"extras\"->pyro-ppl[extras]) (0.57.0)\n",
      "Requirement already satisfied: pillow in /opt/conda/lib/python3.8/site-packages (from visdom>=0.1.4; extra == \"extras\"->pyro-ppl[extras]) (7.1.2)\n",
      "Requirement already satisfied: scipy in /opt/conda/lib/python3.8/site-packages (from visdom>=0.1.4; extra == \"extras\"->pyro-ppl[extras]) (1.4.1)\n",
      "Requirement already satisfied: six in /opt/conda/lib/python3.8/site-packages (from visdom>=0.1.4; extra == \"extras\"->pyro-ppl[extras]) (1.15.0)\n",
      "Requirement already satisfied: requests in /opt/conda/lib/python3.8/site-packages (from visdom>=0.1.4; extra == \"extras\"->pyro-ppl[extras]) (2.23.0)\n",
      "Requirement already satisfied: torchfile in /opt/conda/lib/python3.8/site-packages (from visdom>=0.1.4; extra == \"extras\"->pyro-ppl[extras]) (0.1.0)\n",
      "Requirement already satisfied: pyzmq in /opt/conda/lib/python3.8/site-packages (from visdom>=0.1.4; extra == \"extras\"->pyro-ppl[extras]) (19.0.1)\n",
      "Requirement already satisfied: python-dateutil>=2.6.1 in /opt/conda/lib/python3.8/site-packages (from pandas; extra == \"extras\"->pyro-ppl[extras]) (2.8.1)\n",
      "Requirement already satisfied: pytz>=2017.2 in /opt/conda/lib/python3.8/site-packages (from pandas; extra == \"extras\"->pyro-ppl[extras]) (2020.1)\n",
      "Requirement already satisfied: pyparsing!=2.0.4,!=2.1.2,!=2.1.6,>=2.0.1 in /opt/conda/lib/python3.8/site-packages (from matplotlib>=1.3; extra == \"extras\"->pyro-ppl[extras]) (2.4.7)\n",
      "Requirement already satisfied: cycler>=0.10 in /opt/conda/lib/python3.8/site-packages (from matplotlib>=1.3; extra == \"extras\"->pyro-ppl[extras]) (0.10.0)\n",
      "Requirement already satisfied: kiwisolver>=1.0.1 in /opt/conda/lib/python3.8/site-packages (from matplotlib>=1.3; extra == \"extras\"->pyro-ppl[extras]) (1.2.0)\n",
      "Requirement already satisfied: joblib>=0.11 in /opt/conda/lib/python3.8/site-packages (from scikit-learn; extra == \"extras\"->pyro-ppl[extras]) (0.15.1)\n",
      "Requirement already satisfied: threadpoolctl>=2.0.0 in /opt/conda/lib/python3.8/site-packages (from scikit-learn; extra == \"extras\"->pyro-ppl[extras]) (2.0.0)\n",
      "Collecting qtconsole\n",
      "  Downloading qtconsole-4.7.7-py2.py3-none-any.whl (118 kB)\n",
      "\u001b[K     |████████████████████████████████| 118 kB 6.2 MB/s eta 0:00:01\n",
      "\u001b[?25hRequirement already satisfied: ipykernel in /opt/conda/lib/python3.8/site-packages (from jupyter>=1.0.0; extra == \"extras\"->pyro-ppl[extras]) (5.3.0)\n",
      "Requirement already satisfied: nbconvert in /opt/conda/lib/python3.8/site-packages (from jupyter>=1.0.0; extra == \"extras\"->pyro-ppl[extras]) (5.6.1)\n",
      "Requirement already satisfied: notebook in /opt/conda/lib/python3.8/site-packages (from jupyter>=1.0.0; extra == \"extras\"->pyro-ppl[extras]) (6.0.3)\n",
      "Collecting jupyter-console\n",
      "  Downloading jupyter_console-6.2.0-py3-none-any.whl (22 kB)\n",
      "Requirement already satisfied: ipywidgets in /opt/conda/lib/python3.8/site-packages (from jupyter>=1.0.0; extra == \"extras\"->pyro-ppl[extras]) (7.5.1)\n",
      "Requirement already satisfied: jsonpointer>=1.9 in /opt/conda/lib/python3.8/site-packages (from jsonpatch->visdom>=0.1.4; extra == \"extras\"->pyro-ppl[extras]) (2.0)\n",
      "Requirement already satisfied: urllib3!=1.25.0,!=1.25.1,<1.26,>=1.21.1 in /opt/conda/lib/python3.8/site-packages (from requests->visdom>=0.1.4; extra == \"extras\"->pyro-ppl[extras]) (1.24.3)\n",
      "Requirement already satisfied: certifi>=2017.4.17 in /opt/conda/lib/python3.8/site-packages (from requests->visdom>=0.1.4; extra == \"extras\"->pyro-ppl[extras]) (2020.4.5.1)\n",
      "Requirement already satisfied: chardet<4,>=3.0.2 in /opt/conda/lib/python3.8/site-packages (from requests->visdom>=0.1.4; extra == \"extras\"->pyro-ppl[extras]) (3.0.4)\n",
      "Requirement already satisfied: idna<3,>=2.5 in /opt/conda/lib/python3.8/site-packages (from requests->visdom>=0.1.4; extra == \"extras\"->pyro-ppl[extras]) (2.9)\n",
      "Requirement already satisfied: ipython-genutils in /opt/conda/lib/python3.8/site-packages (from qtconsole->jupyter>=1.0.0; extra == \"extras\"->pyro-ppl[extras]) (0.2.0)\n",
      "Collecting qtpy\n",
      "  Downloading QtPy-1.9.0-py2.py3-none-any.whl (54 kB)\n",
      "\u001b[K     |████████████████████████████████| 54 kB 2.9 MB/s eta 0:00:01\n",
      "\u001b[?25hRequirement already satisfied: jupyter-client>=4.1 in /opt/conda/lib/python3.8/site-packages (from qtconsole->jupyter>=1.0.0; extra == \"extras\"->pyro-ppl[extras]) (6.1.3)\n",
      "Requirement already satisfied: traitlets in /opt/conda/lib/python3.8/site-packages (from qtconsole->jupyter>=1.0.0; extra == \"extras\"->pyro-ppl[extras]) (4.3.3)\n",
      "Requirement already satisfied: jupyter-core in /opt/conda/lib/python3.8/site-packages (from qtconsole->jupyter>=1.0.0; extra == \"extras\"->pyro-ppl[extras]) (4.6.3)\n",
      "Requirement already satisfied: pygments in /opt/conda/lib/python3.8/site-packages (from qtconsole->jupyter>=1.0.0; extra == \"extras\"->pyro-ppl[extras]) (2.6.1)\n",
      "Requirement already satisfied: ipython>=5.0.0 in /opt/conda/lib/python3.8/site-packages (from ipykernel->jupyter>=1.0.0; extra == \"extras\"->pyro-ppl[extras]) (7.14.0)\n",
      "Requirement already satisfied: jinja2>=2.4 in /opt/conda/lib/python3.8/site-packages (from nbconvert->jupyter>=1.0.0; extra == \"extras\"->pyro-ppl[extras]) (2.11.2)\n",
      "Requirement already satisfied: bleach in /opt/conda/lib/python3.8/site-packages (from nbconvert->jupyter>=1.0.0; extra == \"extras\"->pyro-ppl[extras]) (3.1.5)\n",
      "Requirement already satisfied: entrypoints>=0.2.2 in /opt/conda/lib/python3.8/site-packages (from nbconvert->jupyter>=1.0.0; extra == \"extras\"->pyro-ppl[extras]) (0.3)\n",
      "Requirement already satisfied: pandocfilters>=1.4.1 in /opt/conda/lib/python3.8/site-packages (from nbconvert->jupyter>=1.0.0; extra == \"extras\"->pyro-ppl[extras]) (1.4.2)\n",
      "Requirement already satisfied: nbformat>=4.4 in /opt/conda/lib/python3.8/site-packages (from nbconvert->jupyter>=1.0.0; extra == \"extras\"->pyro-ppl[extras]) (5.0.6)\n",
      "Requirement already satisfied: testpath in /opt/conda/lib/python3.8/site-packages (from nbconvert->jupyter>=1.0.0; extra == \"extras\"->pyro-ppl[extras]) (0.4.4)\n",
      "Requirement already satisfied: defusedxml in /opt/conda/lib/python3.8/site-packages (from nbconvert->jupyter>=1.0.0; extra == \"extras\"->pyro-ppl[extras]) (0.6.0)\n",
      "Requirement already satisfied: mistune<2,>=0.8.1 in /opt/conda/lib/python3.8/site-packages (from nbconvert->jupyter>=1.0.0; extra == \"extras\"->pyro-ppl[extras]) (0.8.4)\n",
      "Requirement already satisfied: Send2Trash in /opt/conda/lib/python3.8/site-packages (from notebook->jupyter>=1.0.0; extra == \"extras\"->pyro-ppl[extras]) (1.5.0)\n",
      "Requirement already satisfied: prometheus-client in /opt/conda/lib/python3.8/site-packages (from notebook->jupyter>=1.0.0; extra == \"extras\"->pyro-ppl[extras]) (0.7.1)\n",
      "Requirement already satisfied: terminado>=0.8.1 in /opt/conda/lib/python3.8/site-packages (from notebook->jupyter>=1.0.0; extra == \"extras\"->pyro-ppl[extras]) (0.8.3)\n",
      "Requirement already satisfied: prompt-toolkit!=3.0.0,!=3.0.1,<3.1.0,>=2.0.0 in /opt/conda/lib/python3.8/site-packages (from jupyter-console->jupyter>=1.0.0; extra == \"extras\"->pyro-ppl[extras]) (3.0.5)\n",
      "Requirement already satisfied: widgetsnbextension~=3.5.0 in /opt/conda/lib/python3.8/site-packages (from ipywidgets->jupyter>=1.0.0; extra == \"extras\"->pyro-ppl[extras]) (3.5.1)\n",
      "Requirement already satisfied: decorator in /opt/conda/lib/python3.8/site-packages (from traitlets->qtconsole->jupyter>=1.0.0; extra == \"extras\"->pyro-ppl[extras]) (4.4.2)\n",
      "Requirement already satisfied: pickleshare in /opt/conda/lib/python3.8/site-packages (from ipython>=5.0.0->ipykernel->jupyter>=1.0.0; extra == \"extras\"->pyro-ppl[extras]) (0.7.5)\n",
      "Requirement already satisfied: backcall in /opt/conda/lib/python3.8/site-packages (from ipython>=5.0.0->ipykernel->jupyter>=1.0.0; extra == \"extras\"->pyro-ppl[extras]) (0.1.0)\n",
      "Requirement already satisfied: pexpect; sys_platform != \"win32\" in /opt/conda/lib/python3.8/site-packages (from ipython>=5.0.0->ipykernel->jupyter>=1.0.0; extra == \"extras\"->pyro-ppl[extras]) (4.8.0)\n",
      "Requirement already satisfied: jedi>=0.10 in /opt/conda/lib/python3.8/site-packages (from ipython>=5.0.0->ipykernel->jupyter>=1.0.0; extra == \"extras\"->pyro-ppl[extras]) (0.17.0)\n",
      "Requirement already satisfied: setuptools>=18.5 in /opt/conda/lib/python3.8/site-packages (from ipython>=5.0.0->ipykernel->jupyter>=1.0.0; extra == \"extras\"->pyro-ppl[extras]) (46.4.0.post20200518)\n",
      "Requirement already satisfied: MarkupSafe>=0.23 in /opt/conda/lib/python3.8/site-packages (from jinja2>=2.4->nbconvert->jupyter>=1.0.0; extra == \"extras\"->pyro-ppl[extras]) (1.1.1)\n",
      "Requirement already satisfied: webencodings in /opt/conda/lib/python3.8/site-packages (from bleach->nbconvert->jupyter>=1.0.0; extra == \"extras\"->pyro-ppl[extras]) (0.5.1)\n",
      "Requirement already satisfied: packaging in /opt/conda/lib/python3.8/site-packages (from bleach->nbconvert->jupyter>=1.0.0; extra == \"extras\"->pyro-ppl[extras]) (20.4)\n",
      "Requirement already satisfied: jsonschema!=2.5.0,>=2.4 in /opt/conda/lib/python3.8/site-packages (from nbformat>=4.4->nbconvert->jupyter>=1.0.0; extra == \"extras\"->pyro-ppl[extras]) (3.2.0)\n",
      "Requirement already satisfied: wcwidth in /opt/conda/lib/python3.8/site-packages (from prompt-toolkit!=3.0.0,!=3.0.1,<3.1.0,>=2.0.0->jupyter-console->jupyter>=1.0.0; extra == \"extras\"->pyro-ppl[extras]) (0.1.9)\n",
      "Requirement already satisfied: ptyprocess>=0.5 in /opt/conda/lib/python3.8/site-packages (from pexpect; sys_platform != \"win32\"->ipython>=5.0.0->ipykernel->jupyter>=1.0.0; extra == \"extras\"->pyro-ppl[extras]) (0.6.0)\n",
      "Requirement already satisfied: parso>=0.7.0 in /opt/conda/lib/python3.8/site-packages (from jedi>=0.10->ipython>=5.0.0->ipykernel->jupyter>=1.0.0; extra == \"extras\"->pyro-ppl[extras]) (0.7.0)\n",
      "Requirement already satisfied: pyrsistent>=0.14.0 in /opt/conda/lib/python3.8/site-packages (from jsonschema!=2.5.0,>=2.4->nbformat>=4.4->nbconvert->jupyter>=1.0.0; extra == \"extras\"->pyro-ppl[extras]) (0.16.0)\n",
      "Requirement already satisfied: attrs>=17.4.0 in /opt/conda/lib/python3.8/site-packages (from jsonschema!=2.5.0,>=2.4->nbformat>=4.4->nbconvert->jupyter>=1.0.0; extra == \"extras\"->pyro-ppl[extras]) (19.3.0)\n",
      "Building wheels for collected packages: wget\n",
      "  Building wheel for wget (setup.py) ... \u001b[?25ldone\n",
      "\u001b[?25h  Created wheel for wget: filename=wget-3.2-py3-none-any.whl size=9681 sha256=bef31c2dde9570372660281ff4a57a0c68f454af1a7edca15052f3acbf338286\n",
      "  Stored in directory: /home/eugene/.cache/pip/wheels/bd/a8/c3/3cf2c14a1837a4e04bd98631724e81f33f462d86a1d895fae0\n",
      "Successfully built wget\n",
      "\u001b[31mERROR: torchvision 0.7.0 has requirement torch==1.6.0, but you'll have torch 1.5.0 which is incompatible.\u001b[0m\n",
      "\u001b[31mERROR: pytorch-toolbelt 0.3.2 has requirement Pillow<7.0,>=6.0, but you'll have pillow 7.1.2 which is incompatible.\u001b[0m\n",
      "Installing collected packages: pyro-api, torchvision, qtpy, qtconsole, jupyter-console, jupyter, wget, pyro-ppl\n",
      "  Attempting uninstall: torchvision\n",
      "    Found existing installation: torchvision 0.6.0a0+b68adcf\n",
      "    Uninstalling torchvision-0.6.0a0+b68adcf:\n",
      "      Successfully uninstalled torchvision-0.6.0a0+b68adcf\n",
      "Successfully installed jupyter-1.0.0 jupyter-console-6.2.0 pyro-api-0.1.2 pyro-ppl-1.4.0 qtconsole-4.7.7 qtpy-1.9.0 torchvision-0.7.0 wget-3.2\n"
     ]
    }
   ],
   "source": [
    "!pip install pyro-ppl[extras]"
   ]
  },
  {
   "cell_type": "code",
   "execution_count": 6,
   "metadata": {},
   "outputs": [
    {
     "data": {
      "text/plain": [
       "'1.5.0'"
      ]
     },
     "execution_count": 6,
     "metadata": {},
     "output_type": "execute_result"
    }
   ],
   "source": [
    "torch.__version__"
   ]
  },
  {
   "cell_type": "markdown",
   "metadata": {},
   "source": [
    "## Primitives\n",
    "Draw a sample"
   ]
  },
  {
   "cell_type": "code",
   "execution_count": 18,
   "metadata": {},
   "outputs": [
    {
     "name": "stdout",
     "output_type": "stream",
     "text": [
      "sample tensor([-1.0760, -1.3107, -0.1720, -1.8083, -0.4594, -0.5810,  0.4576, -0.5299,\n",
      "        -0.7282,  1.2456])\n",
      "log prob tensor([-1.4978, -1.7780, -0.9337, -2.5539, -1.0245, -1.0877, -1.0236, -1.0593,\n",
      "        -1.1840, -1.6946])\n"
     ]
    }
   ],
   "source": [
    "normal = torch.distributions.Normal(0, 1.0)\n",
    "x = normal.rsample(sample_shape=(10,))\n",
    "print(\"sample\", x)\n",
    "print(\"log prob\", normal.log_prob(x)) # score the sample from N(0,1)"
   ]
  },
  {
   "cell_type": "markdown",
   "metadata": {},
   "source": [
    "probabalistic model"
   ]
  },
  {
   "cell_type": "code",
   "execution_count": 25,
   "metadata": {},
   "outputs": [
    {
     "name": "stdout",
     "output_type": "stream",
     "text": [
      "pytorch: ('sunny', 87.1436996459961)\n",
      "pyro: ('sunny', 64.85323333740234)\n",
      "pytorch: ('cloudy', 46.7928352355957)\n",
      "pyro: ('sunny', 92.76007080078125)\n",
      "pytorch: ('sunny', 69.12490844726562)\n",
      "pyro: ('sunny', 50.834327697753906)\n"
     ]
    }
   ],
   "source": [
    "def weather_pytorch():\n",
    "    cloudy = torch.distributions.Bernoulli(0.3).sample()\n",
    "    cloudy = 'cloudy' if cloudy.item() == 1.0 else 'sunny'\n",
    "    mean_temp = {'cloudy': 55.0, 'sunny': 75.0}[cloudy]\n",
    "    scale_temp = {'cloudy': 10.0, 'sunny': 15.0}[cloudy]\n",
    "    temp = torch.distributions.Normal(mean_temp, scale_temp).rsample()\n",
    "    return cloudy, temp.item()\n",
    "\n",
    "\n",
    "def weather_pyro():\n",
    "    cloudy = pyro.sample('cloudy', pyro.distributions.Bernoulli(0.3))\n",
    "    cloudy = 'cloudy' if cloudy.item() == 1.0 else 'sunny'\n",
    "    mean_temp = {'cloudy': 55.0, 'sunny': 75.0}[cloudy]\n",
    "    scale_temp = {'cloudy': 10.0, 'sunny': 15.0}[cloudy]\n",
    "    temp = pyro.sample('temp', pyro.distributions.Normal(mean_temp, scale_temp))\n",
    "    return cloudy, temp.item()\n",
    "\n",
    "for _ in range(3):\n",
    "    print('pytorch:', weather_pytorch())\n",
    "    print('pyro:', weather_pyro())"
   ]
  },
  {
   "cell_type": "code",
   "execution_count": 40,
   "metadata": {},
   "outputs": [
    {
     "name": "stdout",
     "output_type": "stream",
     "text": [
      "ice_cream_sales (pyro): tensor(61.2207)\n",
      "ice_cream_sales (pytorch): tensor(192.9776)\n",
      "ice_cream_sales (pyro): tensor(60.7514)\n",
      "ice_cream_sales (pytorch): tensor(57.5971)\n",
      "ice_cream_sales (pyro): tensor(47.5173)\n",
      "ice_cream_sales (pytorch): tensor(51.7640)\n"
     ]
    }
   ],
   "source": [
    "def ice_cream_sales(weather):\n",
    "    cloudy, temp = weather()\n",
    "    expected_sales = 200. if cloudy == 'sunny' and temp > 80.0 else 50.\n",
    "    ice_cream = pyro.sample('ice_cream', pyro.distributions.Normal(expected_sales, 10.0))\n",
    "    return ice_cream\n",
    "\n",
    "for _ in range(3):\n",
    "    print('ice_cream_sales (pyro):', ice_cream_sales(weather_pyro))\n",
    "    print('ice_cream_sales (pytorch):', ice_cream_sales(weather_pytorch))    "
   ]
  },
  {
   "cell_type": "code",
   "execution_count": 39,
   "metadata": {},
   "outputs": [
    {
     "name": "stdout",
     "output_type": "stream",
     "text": [
      "0\n"
     ]
    }
   ],
   "source": [
    "def geometric(p, t=None):\n",
    "    \"\"\"\n",
    "    calculate the number of failures until the first success\n",
    "    \"\"\"\n",
    "    if t is None:\n",
    "        t = 0\n",
    "    x = pyro.sample(\"x_{}\".format(t), pyro.distributions.Bernoulli(p))\n",
    "    if x.item() == 1:\n",
    "        return 0\n",
    "    else:\n",
    "        return 1 + geometric(p, t + 1)\n",
    "\n",
    "print(geometric(0.5))"
   ]
  },
  {
   "cell_type": "markdown",
   "metadata": {},
   "source": [
    "### Coin flipping problem"
   ]
  },
  {
   "cell_type": "code",
   "execution_count": 9,
   "metadata": {},
   "outputs": [
    {
     "ename": "NameError",
     "evalue": "name 'pm' is not defined",
     "output_type": "error",
     "traceback": [
      "\u001b[0;31m---------------------------------------------------------------------------\u001b[0m",
      "\u001b[0;31mNameError\u001b[0m                                 Traceback (most recent call last)",
      "\u001b[0;32m<ipython-input-9-0b81b1d22e85>\u001b[0m in \u001b[0;36m<module>\u001b[0;34m\u001b[0m\n\u001b[1;32m      1\u001b[0m \u001b[0mTRIALS\u001b[0m \u001b[0;34m=\u001b[0m \u001b[0;34m[\u001b[0m\u001b[0;36m0\u001b[0m\u001b[0;34m,\u001b[0m\u001b[0;36m1\u001b[0m\u001b[0;34m,\u001b[0m\u001b[0;36m1\u001b[0m\u001b[0;34m,\u001b[0m\u001b[0;36m0\u001b[0m\u001b[0;34m,\u001b[0m\u001b[0;36m1\u001b[0m\u001b[0;34m,\u001b[0m\u001b[0;36m1\u001b[0m\u001b[0;34m,\u001b[0m\u001b[0;36m1\u001b[0m\u001b[0;34m,\u001b[0m\u001b[0;36m0\u001b[0m\u001b[0;34m,\u001b[0m\u001b[0;36m1\u001b[0m\u001b[0;34m,\u001b[0m\u001b[0;36m0\u001b[0m\u001b[0;34m,\u001b[0m\u001b[0;36m1\u001b[0m\u001b[0;34m,\u001b[0m\u001b[0;36m1\u001b[0m\u001b[0;34m]\u001b[0m\u001b[0;34m\u001b[0m\u001b[0;34m\u001b[0m\u001b[0m\n\u001b[0;32m----> 2\u001b[0;31m \u001b[0;32mwith\u001b[0m \u001b[0mpm\u001b[0m\u001b[0;34m.\u001b[0m\u001b[0mModel\u001b[0m\u001b[0;34m(\u001b[0m\u001b[0;34m)\u001b[0m \u001b[0;32mas\u001b[0m \u001b[0msuccess_model\u001b[0m\u001b[0;34m:\u001b[0m\u001b[0;34m\u001b[0m\u001b[0;34m\u001b[0m\u001b[0m\n\u001b[0m\u001b[1;32m      3\u001b[0m     \u001b[0mp_success\u001b[0m \u001b[0;34m=\u001b[0m \u001b[0mpm\u001b[0m\u001b[0;34m.\u001b[0m\u001b[0mUniform\u001b[0m\u001b[0;34m(\u001b[0m\u001b[0;34m'p_success'\u001b[0m\u001b[0;34m,\u001b[0m \u001b[0mlower\u001b[0m\u001b[0;34m=\u001b[0m\u001b[0;36m0\u001b[0m\u001b[0;34m,\u001b[0m \u001b[0mupper\u001b[0m\u001b[0;34m=\u001b[0m\u001b[0;36m1\u001b[0m\u001b[0;34m)\u001b[0m\u001b[0;34m\u001b[0m\u001b[0;34m\u001b[0m\u001b[0m\n\u001b[1;32m      4\u001b[0m     \u001b[0mtrials\u001b[0m \u001b[0;34m=\u001b[0m \u001b[0mpm\u001b[0m\u001b[0;34m.\u001b[0m\u001b[0mBernoulli\u001b[0m\u001b[0;34m(\u001b[0m\u001b[0;34m'trials'\u001b[0m\u001b[0;34m,\u001b[0m \u001b[0mp\u001b[0m\u001b[0;34m=\u001b[0m\u001b[0mtheta_one\u001b[0m\u001b[0;34m,\u001b[0m \u001b[0moversved\u001b[0m\u001b[0;34m=\u001b[0m\u001b[0mTRIALS\u001b[0m\u001b[0;34m)\u001b[0m\u001b[0;34m\u001b[0m\u001b[0;34m\u001b[0m\u001b[0m\n\u001b[1;32m      5\u001b[0m \u001b[0;34m\u001b[0m\u001b[0m\n",
      "\u001b[0;31mNameError\u001b[0m: name 'pm' is not defined"
     ]
    }
   ],
   "source": [
    "TRIALS = [0,1,1,0,1,1,1,0,1,0,1,1]\n",
    "with pm.Model() as success_model:\n",
    "    p_success = pm.Uniform('p_success', lower=0, upper=1)\n",
    "    trials = pm.Bernoulli('trials', p=theta_one, oversved=TRIALS)\n",
    "    \n",
    "mean_success = trace_df.p_success.mean()\n",
    "lower_credibility = trace_df.p_success.quantile(q=0.05)\n",
    "higher_credibility = trace_df.p_success.quantile(q=0.95)\n",
    "print(f'Mean accuracy estimate = {mean_success}')\n",
    "print(f'90% credibility interval = {lower_credibility} to {higher_credibility}')"
   ]
  },
  {
   "cell_type": "code",
   "execution_count": null,
   "metadata": {},
   "outputs": [],
   "source": [
    "a"
   ]
  }
 ],
 "metadata": {
  "kernelspec": {
   "display_name": "Python 3",
   "language": "python",
   "name": "python3"
  },
  "language_info": {
   "codemirror_mode": {
    "name": "ipython",
    "version": 3
   },
   "file_extension": ".py",
   "mimetype": "text/x-python",
   "name": "python",
   "nbconvert_exporter": "python",
   "pygments_lexer": "ipython3",
   "version": "3.8.2"
  }
 },
 "nbformat": 4,
 "nbformat_minor": 4
}
